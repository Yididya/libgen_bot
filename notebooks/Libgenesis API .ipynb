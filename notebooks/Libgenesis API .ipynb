{
 "cells": [
  {
   "cell_type": "code",
   "execution_count": 126,
   "metadata": {},
   "outputs": [],
   "source": [
    "import urllib\n",
    "from bs4 import BeautifulSoup\n",
    "\n",
    "\n",
    "BASE_URL = 'http://gen.lib.rus.ec/'\n",
    "BASE_DOWNLAOD_LINK = 'http://libgen.io/ads.php'"
   ]
  },
  {
   "cell_type": "code",
   "execution_count": 147,
   "metadata": {},
   "outputs": [],
   "source": [
    "def browse(term):\n",
    "    url = BASE_URL + 'search.php/?req=' + (term.replace(' ', '+'))\n",
    "    result = urllib.request.urlopen(url)\n",
    "    assert result\n",
    "    \n",
    "    return result\n",
    "    "
   ]
  },
  {
   "cell_type": "code",
   "execution_count": 148,
   "metadata": {
    "collapsed": true
   },
   "outputs": [],
   "source": [
    "def get_dict_of_books(result):\n",
    "    soup = BeautifulSoup(result, 'html.parser')\n",
    "    return soup"
   ]
  },
  {
   "cell_type": "code",
   "execution_count": 149,
   "metadata": {},
   "outputs": [],
   "source": [
    "soup = get_dict_of_books(browse('python for dummies'))"
   ]
  },
  {
   "cell_type": "code",
   "execution_count": 150,
   "metadata": {
    "collapsed": true
   },
   "outputs": [],
   "source": [
    "soup = soup.find_all('table', attrs={'align': 'center'})[0]"
   ]
  },
  {
   "cell_type": "code",
   "execution_count": 151,
   "metadata": {},
   "outputs": [],
   "source": [
    "search_results = soup.find_all('tr') [1:]"
   ]
  },
  {
   "cell_type": "code",
   "execution_count": 152,
   "metadata": {},
   "outputs": [],
   "source": [
    "results = []\n",
    "for r in search_results:\n",
    "    columns = r.find_all('td')\n",
    "    \n",
    "    ## Get book's author\n",
    "    author = columns[0].get_text()\n",
    "    \n",
    "    ## Get books' title\n",
    "    title = columns[2]\n",
    "    title = title.find('a')\n",
    "    if title.find('font'): title.find('font').extract()\n",
    "    title = title.get_text()\n",
    "    \n",
    "    ## Book's md5\n",
    "    md5 = columns[2].find('a', attrs={'title': True})['href']\n",
    "    results.append({\n",
    "        'title': title, \n",
    "        'author': author,\n",
    "        'md5': md5.replace('book/index.php?md5=', '' )\n",
    "    })\n",
    "    "
   ]
  },
  {
   "cell_type": "code",
   "execution_count": 153,
   "metadata": {},
   "outputs": [
    {
     "data": {
      "text/plain": [
       "['458F149B82149FCDDE9E125155E1AE84',\n",
       " 'A2B4079BCB2D0A157659C1374A507A16',\n",
       " '3070880F0B1B95AE40FBD47EE7FBE092',\n",
       " '107529BAED8C4C84DEF890FED535C88B',\n",
       " 'EC69AA1535CD82C735EE14ABFC05048F',\n",
       " '7648EA1DC53F10E82D669698A23B237A',\n",
       " '74B2126149709057B94B76327F6B4227',\n",
       " '12818FDF3B9B117A41310CA5586B006A']"
      ]
     },
     "execution_count": 153,
     "metadata": {},
     "output_type": "execute_result"
    }
   ],
   "source": [
    "list(map(lambda x: x['md5'], results))"
   ]
  },
  {
   "cell_type": "code",
   "execution_count": 144,
   "metadata": {},
   "outputs": [],
   "source": [
    "def get_link_from_md5(md5):\n",
    "    assert md5\n",
    "    url = BASE_DOWNLAOD_LINK + '?md5=' + md5\n",
    "    result = urllib.request.urlopen(url)\n",
    "    soup = BeautifulSoup(result, 'html.parser')\n",
    "    \n",
    "    return soup.table.find_all('td')[2].a['href']\n",
    "    \n",
    "    "
   ]
  },
  {
   "cell_type": "code",
   "execution_count": 146,
   "metadata": {},
   "outputs": [
    {
     "data": {
      "text/plain": [
       "'http://libgen.io/get.php?md5=12818FDF3B9B117A41310CA5586B006A&key=GKV9SBHM723Z85NP'"
      ]
     },
     "execution_count": 146,
     "metadata": {},
     "output_type": "execute_result"
    }
   ],
   "source": []
  }
 ],
 "metadata": {
  "kernelspec": {
   "display_name": "Python 3.5",
   "language": "python",
   "name": "python3"
  },
  "language_info": {
   "codemirror_mode": {
    "name": "ipython",
    "version": 3
   },
   "file_extension": ".py",
   "mimetype": "text/x-python",
   "name": "python",
   "nbconvert_exporter": "python",
   "pygments_lexer": "ipython3",
   "version": "3.5.2"
  }
 },
 "nbformat": 4,
 "nbformat_minor": 2
}
